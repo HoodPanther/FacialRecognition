{
 "cells": [
  {
   "cell_type": "code",
   "execution_count": 1,
   "metadata": {
    "collapsed": true
   },
   "outputs": [],
   "source": [
    "import cv2\n",
    "import os\n",
    "import numpy as np\n",
    "import time"
   ]
  },
  {
   "cell_type": "code",
   "execution_count": 2,
   "metadata": {
    "collapsed": false
   },
   "outputs": [],
   "source": [
    "path = 'C:/Users/VE-ENG/Desktop/CMU_PIE_Face/Pose05_64x64_files/'\n",
    "picPerPerson = 49"
   ]
  },
  {
   "cell_type": "code",
   "execution_count": 3,
   "metadata": {
    "collapsed": false
   },
   "outputs": [],
   "source": [
    "def load_testing(path,trainingRatio):\n",
    "    picPerPerson = 49\n",
    "    testingImagesPath = []\n",
    "    testingIndices = []\n",
    "    numPerson = len(os.listdir(path) )/picPerPerson\n",
    "    traniningPicPerPerson = int(picPerPerson* trainingRatio)\n",
    "\n",
    "    for personID in range(numPerson):\n",
    "        for picID in range(traniningPicPerPerson,picPerPerson):\n",
    "            fileName = path + str(personID) + '_' + str(picID) + '.jpg'\n",
    "    #         img = cv2.imread(fileName,cv2.IMREAD_GRAYSCALE)\n",
    "            testingImagesPath.append(fileName)\n",
    "            testingIndices.append(personID)\n",
    "    return testingImagesPath, testingIndices"
   ]
  },
  {
   "cell_type": "code",
   "execution_count": 4,
   "metadata": {
    "collapsed": true
   },
   "outputs": [],
   "source": [
    "def load_training(path, trainingRatio):\n",
    "    picPerPerson = 49\n",
    "    trainingImages = []\n",
    "    trainingIndices = []\n",
    "    traniningPicPerPerson = int(picPerPerson* trainingRatio)\n",
    "    for personID in range(numPerson):\n",
    "        for picID in range(traniningPicPerPerson):\n",
    "            fileName = path + str(personID) + '_' + str(picID) + '.jpg'\n",
    "            img = cv2.imread(fileName,cv2.IMREAD_GRAYSCALE)\n",
    "            trainingImages.append(np.asarray(img, dtype = np.float32))\n",
    "            trainingIndices.append(personID)\n",
    "    return trainingImages, trainingIndices"
   ]
  },
  {
   "cell_type": "code",
   "execution_count": 5,
   "metadata": {
    "collapsed": false
   },
   "outputs": [],
   "source": [
    "# for KNN algorithm\n",
    "def load_training_ML(path, trainingRatio):\n",
    "    picPerPerson = 49\n",
    "    trainingImages = []\n",
    "    trainingIndices = []\n",
    "    traniningPicPerPerson = int(picPerPerson* trainingRatio)\n",
    "\n",
    "    for personID in range(numPerson):\n",
    "        for picID in range(traniningPicPerPerson):\n",
    "            fileName = path + str(personID) + '_' + str(picID) + '.jpg'\n",
    "            img = cv2.imread(fileName,cv2.IMREAD_GRAYSCALE)\n",
    "            trainingImages.append(np.asarray(img).flatten())\n",
    "            trainingIndices.append(personID)\n",
    "    return trainingImages, trainingIndices"
   ]
  },
  {
   "cell_type": "code",
   "execution_count": 6,
   "metadata": {
    "collapsed": false
   },
   "outputs": [],
   "source": [
    "def train_face_recognizer(trainingImages,trainingIndices, modelType = 0):\n",
    "    tic = time.time()\n",
    "    if modelType == 0:\n",
    "        print 'LBPH Model training with %s images...' % len(trainingImages)\n",
    "        recognizer = cv2.createLBPHFaceRecognizer()\n",
    "    elif modelType == 1:\n",
    "        print 'Eigen Face Model training with %s images...' % len(trainingImages)\n",
    "        recognizer = cv2.createEigenFaceRecognizer()   \n",
    "    elif modelType == 2:\n",
    "        print 'Fisher Model training with %s images...' % len(trainingImages)\n",
    "        recognizer = cv2.createFisherFaceRecognizer() \n",
    "    else:\n",
    "        print \"Invalid type of model selected, please check the modelType.\"\n",
    "        return None\n",
    "    recognizer.train(np.asarray(trainingImages, dtype=np.uint8), np.asarray(trainingIndices, dtype=np.int))\n",
    "\n",
    "    toc = time.time()\n",
    "#     print 'Model trained within %s sec.' % (toc - tic)\n",
    "    return recognizer"
   ]
  },
  {
   "cell_type": "code",
   "execution_count": 7,
   "metadata": {
    "collapsed": false
   },
   "outputs": [],
   "source": [
    "def train_KNN(trainingImages, trainingIndices):\n",
    "    tic = time.time()\n",
    "    print 'KNN Model training with %s images...' % len(trainingImages)\n",
    "    recognizer = cv2.KNearest()\n",
    "    trainingData = np.mat(trainingImages, dtype=np.float32)\n",
    "    recognizer.train(trainingData, np.asarray(trainingIndices))\n",
    "    toc = time.time()\n",
    "#     print 'Model trained within %s sec.' % (toc - tic)\n",
    "    return recognizer"
   ]
  },
  {
   "cell_type": "code",
   "execution_count": 8,
   "metadata": {
    "collapsed": false
   },
   "outputs": [],
   "source": [
    "# for SVM algorithm\n",
    "def train_SVM(trainingImages, trainingIndices):\n",
    "    tic = time.time()\n",
    "    print 'SVM Model training with %s images...' % len(trainingImages)\n",
    "    recognizer = cv2.SVM()  \n",
    "    params = dict( kernel_type = cv2.SVM_LINEAR,svm_type = cv2.SVM_C_SVC,  C = 1 )\n",
    "    recognizer.train(np.asarray(trainingImages,dtype=np.float32), np.asarray(trainingIndices), params = params)\n",
    "    toc = time.time()\n",
    "#     print 'Model trained within %s sec.' % (toc - tic)\n",
    "    return recognizer"
   ]
  },
  {
   "cell_type": "code",
   "execution_count": 9,
   "metadata": {
    "collapsed": false
   },
   "outputs": [],
   "source": [
    "# for KNN algorithm\n",
    "def predict_KNN(recognizer,testingImagesPath, testingIndices, k = 3):\n",
    "    inputImg = np.zeros((len(testingImagesPath),64*64),dtype=np.float32)\n",
    "    count = 0\n",
    "#     print 'Input %s images to predict result...' % len(testingImagesPath)\n",
    "    tic = time.time()\n",
    "\n",
    "    for index,fileName in enumerate(testingImagesPath):\n",
    "        img = cv2.imread(fileName,cv2.IMREAD_GRAYSCALE)\n",
    "        inputImg[index,:] = np.asarray(img, dtype=np.float32).flatten()\n",
    "\n",
    "    ret, results, neighbours, dist = recognizer.find_nearest(inputImg, k)\n",
    "    for predict, actual in zip(results,testingIndices):\n",
    "        if predict == actual:\n",
    "            count += 1\n",
    "\n",
    "#     print 'Correct prediction count: %s' % count\n",
    "    toc = time.time()\n",
    "#     print 'Prediction done within %s sec.' % (toc - tic)\n",
    "    accuracy = float(count)/len(testingIndices)\n",
    "#     print 'Accuracy: %s' % (accuracy)\n",
    "#     print 'Average time for one picture: %s' % ((toc - tic)/len(testingImagesPath))\n",
    "    return accuracy, results"
   ]
  },
  {
   "cell_type": "code",
   "execution_count": 10,
   "metadata": {
    "collapsed": false
   },
   "outputs": [],
   "source": [
    "def predict_SVM(recognizer,testingImagesPath, testingIndices):\n",
    "    tic = time.time()\n",
    "    count = 0\n",
    "    \n",
    "    inputImg = np.zeros((len(testingImagesPath),64*64),dtype=np.float32)\n",
    "    for index,fileName in enumerate(testingImagesPath):\n",
    "        img = cv2.imread(fileName,cv2.IMREAD_GRAYSCALE)\n",
    "        inputImg[index,:] = np.asarray(img, dtype=np.float32).flatten()\n",
    "        \n",
    "#     print 'Input %s images to predict result...' % len(testingImagesPath)\n",
    "    results = np.float32( [recognizer.predict(s) for s in inputImg] )\n",
    "    for predict, actual in zip(results,testingIndices):\n",
    "        if predict == actual:\n",
    "            count += 1\n",
    "#     print 'Correct prediction count: %s' % count\n",
    "    toc = time.time()\n",
    "#     print 'Prediction done within %s sec.' % (toc - tic)\n",
    "    accuracy = float(count)/len(testingIndices)\n",
    "#     print 'Accuracy: %s' % (accuracy)\n",
    "#     print 'Average time for one picture: %s' % ((toc - tic)/len(testingImagesPath))\n",
    "    return accuracy, results"
   ]
  },
  {
   "cell_type": "code",
   "execution_count": 11,
   "metadata": {
    "collapsed": false
   },
   "outputs": [],
   "source": [
    "def predict_face_recognizer(recognizer,testingImagesPath, testingIndices):\n",
    "    predictionList = []\n",
    "    confidenceList = []\n",
    "    count = 0\n",
    "#     print 'Input %s images to predict result...' % len(testingImagesPath)\n",
    "    tic = time.time()\n",
    "    for index,fileName in enumerate(testingImagesPath):\n",
    "        img = cv2.imread(fileName,cv2.IMREAD_GRAYSCALE)\n",
    "        prediction, confidence = recognizer.predict(img)\n",
    "    #     print '%s prediction done.' % fileName\n",
    "        predictionList.append(int(prediction))\n",
    "        confidenceList.append(confidence)  \n",
    "        if prediction == testingIndices[index]:\n",
    "            count +=1\n",
    "#     print 'Correct prediction count: %s' % count\n",
    "    toc = time.time()\n",
    "#     print 'Prediction done within %s sec.' % (toc - tic)\n",
    "    accuracy = float(count)/len(testingIndices)\n",
    "#     print 'Accuracy: %s' % (accuracy)\n",
    "#     print 'Average time for one picture: %s' % ((toc - tic)/len(testingImagesPath))\n",
    "    return accuracy, predictionList, confidenceList\n"
   ]
  },
  {
   "cell_type": "code",
   "execution_count": 12,
   "metadata": {
    "collapsed": false
   },
   "outputs": [
    {
     "name": "stdout",
     "output_type": "stream",
     "text": [
      "training:testing = 10:90\n",
      "training pic per person: 4\n",
      "\n",
      "KNN Model training with 272 images...\n",
      "------------------------------------\n",
      "SVM Model training with 272 images...\n",
      "------------------------------------\n",
      "LBPH Model training with 272 images...\n",
      "------------------------------------\n",
      "\n",
      "training:testing = 20:80\n",
      "training pic per person: 9\n",
      "\n",
      "KNN Model training with 612 images...\n",
      "------------------------------------\n",
      "SVM Model training with 612 images...\n",
      "------------------------------------\n",
      "LBPH Model training with 612 images...\n",
      "------------------------------------\n",
      "\n",
      "training:testing = 30:70\n",
      "training pic per person: 14\n",
      "\n",
      "KNN Model training with 952 images...\n",
      "------------------------------------\n",
      "SVM Model training with 952 images...\n",
      "------------------------------------\n",
      "LBPH Model training with 952 images...\n",
      "------------------------------------\n",
      "\n",
      "training:testing = 40:60\n",
      "training pic per person: 19\n",
      "\n",
      "KNN Model training with 1292 images...\n",
      "------------------------------------\n",
      "SVM Model training with 1292 images...\n",
      "------------------------------------\n",
      "LBPH Model training with 1292 images...\n",
      "------------------------------------\n",
      "\n",
      "training:testing = 50:50\n",
      "training pic per person: 24\n",
      "\n",
      "KNN Model training with 1632 images...\n",
      "------------------------------------\n",
      "SVM Model training with 1632 images...\n",
      "------------------------------------\n",
      "LBPH Model training with 1632 images...\n",
      "------------------------------------\n",
      "\n",
      "training:testing = 60:40\n",
      "training pic per person: 29\n",
      "\n",
      "KNN Model training with 1972 images...\n",
      "------------------------------------\n",
      "SVM Model training with 1972 images...\n",
      "------------------------------------\n",
      "LBPH Model training with 1972 images...\n",
      "------------------------------------\n",
      "\n",
      "training:testing = 70:30\n",
      "training pic per person: 34\n",
      "\n",
      "KNN Model training with 2312 images...\n",
      "------------------------------------\n",
      "SVM Model training with 2312 images...\n",
      "------------------------------------\n",
      "LBPH Model training with 2312 images...\n",
      "------------------------------------\n",
      "\n",
      "training:testing = 80:20\n",
      "training pic per person: 39\n",
      "\n",
      "KNN Model training with 2652 images...\n",
      "------------------------------------\n",
      "SVM Model training with 2652 images...\n",
      "------------------------------------\n",
      "LBPH Model training with 2652 images...\n",
      "------------------------------------\n",
      "\n",
      "training:testing = 90:10\n",
      "training pic per person: 44\n",
      "\n",
      "KNN Model training with 2992 images...\n",
      "------------------------------------\n",
      "SVM Model training with 2992 images...\n",
      "------------------------------------\n",
      "LBPH Model training with 2992 images...\n",
      "------------------------------------\n",
      "\n",
      "Done.\n"
     ]
    }
   ],
   "source": [
    "accuracy_KNN_list = []\n",
    "accuracy_SVM_list = []\n",
    "accuracy_LBPH_list = []\n",
    "accuracy_eigen_list = []\n",
    "accuracy_fisher_list = []\n",
    "\n",
    "time_KNN_list = []\n",
    "time_SVM_list = []\n",
    "time_LBPH_list = []\n",
    "time_eigen_list = []\n",
    "time_fisher_list = []\n",
    "\n",
    "for trainingRatio in [x/10.0 for x in range(1,10)]:\n",
    "\n",
    "    numPerson = len(os.listdir(path) )/picPerPerson\n",
    "    traniningPicPerPerson = int(picPerPerson* trainingRatio)\n",
    "    print 'training:testing = %s:%s' % (int(100*trainingRatio), int(100 - 100*trainingRatio))\n",
    "    print 'training pic per person: %s\\n' %(traniningPicPerPerson)\n",
    "\n",
    "    testingImagesPath, testingIndices = load_testing(path,trainingRatio)\n",
    "    trainingImages_ML, trainingIndices = load_training_ML(path, trainingRatio)\n",
    "    trainingImages, trainingIndices = load_training(path, trainingRatio)\n",
    "\n",
    "    tic = time.time()\n",
    "    recognizer = train_KNN(trainingImages_ML,trainingIndices)\n",
    "    accuracy_KNN, results_KNN = predict_KNN(recognizer,testingImagesPath,testingIndices, k =4)\n",
    "    accuracy_KNN_list.append(accuracy_KNN)\n",
    "    time_KNN_list.append(time.time()-tic)  \n",
    "    print '------------------------------------'\n",
    "    tic = time.time()\n",
    "    recognizer = train_SVM(trainingImages_ML,trainingIndices)\n",
    "    accuracy_SVM, results_SVM = predict_SVM(recognizer,testingImagesPath,testingIndices)\n",
    "    accuracy_SVM_list.append(accuracy_SVM)\n",
    "    time_SVM_list.append(time.time()-tic)\n",
    "    print '------------------------------------'\n",
    "    tic = time.time()\n",
    "    recognizer = train_face_recognizer(trainingImages,trainingIndices)\n",
    "    accuracy_LBPH, results_LBPH, confidence = predict_face_recognizer(recognizer,testingImagesPath,testingIndices)\n",
    "    accuracy_LBPH_list.append(accuracy_LBPH)\n",
    "    time_LBPH_list.append(time.time()-tic)\n",
    "#     print '------------------------------------'\n",
    "#     tic = time.time()\n",
    "#     recognizer = train_face_recognizer(trainingImages,trainingIndices,1)\n",
    "#     accuracy_eigen, results_eigen, confidence = predict_face_recognizer(recognizer,testingImagesPath,testingIndices)\n",
    "#     accuracy_eigen_list.append(accuracy_LBPH)\n",
    "#     time_eigen_list.append(time.time()-tic)\n",
    "#     print '------------------------------------'\n",
    "#     tic = time.time()\n",
    "#     recognizer = train_face_recognizer(trainingImages,trainingIndices,2)\n",
    "#     accuracy_fisher, results_fisher, confidence = predict_face_recognizer(recognizer,testingImagesPath,testingIndices)\n",
    "#     accuracy_fisher_list.append(accuracy_LBPH)\n",
    "#     time_fisher_list.append(time.time()-tic)\n",
    "    print '------------------------------------\\n'\n",
    "print 'Done.'"
   ]
  },
  {
   "cell_type": "code",
   "execution_count": 13,
   "metadata": {
    "collapsed": false
   },
   "outputs": [
    {
     "data": {
      "image/png": "[encoded data removed]",
      "text/plain": [
       "<matplotlib.figure.Figure at 0x69750b8>"
      ]
     },
     "metadata": {},
     "output_type": "display_data"
    }
   ],
   "source": [
    "import matplotlib.pyplot as plt\n",
    "\n",
    "numTrainImages =  [picPerPerson*x/10 for x in range(1,10)]\n",
    "plt.plot(numTrainImages, accuracy_KNN_list, label = 'KNN')\n",
    "plt.plot(numTrainImages, accuracy_SVM_list, label = 'SVM')\n",
    "plt.plot(numTrainImages, accuracy_LBPH_list, label = 'LBPH')\n",
    "# plt.plot(numTrainImages, accuracy_eigen_list, label = 'Eigen Face')\n",
    "# plt.plot(numTrainImages, accuracy_fisher_list, label = 'Fisher')\n",
    "plt.xlabel('Number of Training Images')\n",
    "plt.ylabel('Accuracy')\n",
    "plt.legend()\n",
    "plt.grid()\n",
    "plt.show()"
   ]
  },
  {
   "cell_type": "code",
   "execution_count": 26,
   "metadata": {
    "collapsed": false
   },
   "outputs": [
    {
     "data": {
      "image/png": "[encoded data removed]",
      "text/plain": [
       "<matplotlib.figure.Figure at 0x8e3a438>"
      ]
     },
     "metadata": {},
     "output_type": "display_data"
    }
   ],
   "source": [
    "numTestImages =[(picPerPerson*x/10)*68 for x in range(9,0,-1)]\n",
    "\n",
    "plt.plot(numTestImages, time_KNN_list, label = 'KNN')\n",
    "plt.plot(numTestImages, time_SVM_list, label = 'SVM')\n",
    "plt.plot(numTestImages, time_LBPH_list, label = 'LBPH')\n",
    "\n",
    "plt.xlabel('Number of Testing Images')\n",
    "plt.ylabel('Time/sec')\n",
    "plt.legend()\n",
    "plt.grid()\n",
    "plt.show()"
   ]
  }
 ],
 "metadata": {
  "kernelspec": {
   "display_name": "Python 2",
   "language": "python",
   "name": "python2"
  },
  "language_info": {
   "codemirror_mode": {
    "name": "ipython",
    "version": 2
   },
   "file_extension": ".py",
   "mimetype": "text/x-python",
   "name": "python",
   "nbconvert_exporter": "python",
   "pygments_lexer": "ipython2",
   "version": "2.7.13"
  }
 },
 "nbformat": 4,
 "nbformat_minor": 2
}
