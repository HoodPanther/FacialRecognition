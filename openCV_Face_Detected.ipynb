{
 "cells": [
  {
   "cell_type": "code",
   "execution_count": 143,
   "metadata": {
    "collapsed": true
   },
   "outputs": [],
   "source": [
    "import cv2\n",
    "import sys\n",
    "import time\n",
    "import numpy as np"
   ]
  },
  {
   "cell_type": "code",
   "execution_count": 192,
   "metadata": {
    "collapsed": false
   },
   "outputs": [
    {
     "name": "stdout",
     "output_type": "stream",
     "text": [
      "2.33800005913\n"
     ]
    }
   ],
   "source": [
    "import os\n",
    "def drawRectangle(faces,img, flip = 0):\n",
    "    if flip == 1:\n",
    "        img = cv2.flip(img,1)\n",
    "    for (x, y, w, h) in faces:\n",
    "        cv2.rectangle(img, (x, y), (x+w, y+h), (0, 255, 0), 2)\n",
    "    return cv2.flip(img,1) if flip ==1 else img\n",
    "        \n",
    "def drawBlock(faces,img, flip = 0):\n",
    "    if flip == 1:\n",
    "        img = cv2.flip(img,1)\n",
    "    for (x, y, w, h) in faces:\n",
    "        rec = cv2.rectangle(img, (x, y), (x+w, y+h), (0, 0, 0),-1)\n",
    "    return cv2.flip(img,1) if flip ==1 else img\n",
    "\n",
    "def cropFace(faces,img, path, flip = 0):\n",
    "    if not os.path.exists(path):\n",
    "        os.mkdir(path)\n",
    "    if flip== 1:\n",
    "        img = cv2.flip(img,1)\n",
    "\n",
    "    count = len(os.listdir(path))\n",
    "    for (x,y,w,h) in faces:\n",
    "        face = img[y:y+w,x:x+h]\n",
    "        # resize to 100 px * 100 px image\n",
    "        face = cv2.resize(face, (100,100), interpolation=cv2.INTER_CUBIC)\n",
    "        cv2.imwrite(path + str(count) + '.png',face)\n",
    "        count += 1 \n",
    "        \n",
    "def frontFaceDetect(img):\n",
    "    cascPath = 'C:/Users/VE-ENG/Desktop/data/haarcascades/haarcascade_frontalface_alt2.xml'\n",
    "    faceCascade = cv2.CascadeClassifier(cascPath)\n",
    "    faces = faceCascade.detectMultiScale(\n",
    "        img,\n",
    "        scaleFactor=1.1,\n",
    "        minNeighbors=5,\n",
    "        minSize=(30, 30),\n",
    "        flags=cv2.cv.CV_HAAR_SCALE_IMAGE)\n",
    "    print 'Find %s face(s) with front face detector' % len(faces)\n",
    "    return faces\n",
    "    \n",
    "def sideFaceDetect(img, flip = 0):\n",
    "    cascPath = 'C:/Users/VE-ENG/Desktop/data/haarcascades/haarcascade_profileface.xml'\n",
    "    faceCascade = cv2.CascadeClassifier(cascPath)\n",
    "    if flip == 1:\n",
    "            img = cv2.flip(img,1)\n",
    "    faces = faceCascade.detectMultiScale(\n",
    "        img,\n",
    "        scaleFactor=1.1,\n",
    "        minNeighbors=5,\n",
    "        minSize=(30, 30),\n",
    "        flags=cv2.cv.CV_HAAR_SCALE_IMAGE)\n",
    "    if flip == 0:\n",
    "        print 'Find %s face(s) with side face (left) detector' % len(faces)\n",
    "    else:\n",
    "        print 'Find %s face(s) with side face (right) detector' % len(faces)\n",
    "    return faces\n",
    "\n",
    "\n",
    "path = 'C:/Users/VE-ENG/Desktop/test/'\n",
    "tic = time.time()\n",
    "for fileName in [video_11.jpg]:\n",
    "# os.listdir(path)    \n",
    "    img = cv2.imread(path+fileName)\n",
    "    gray = cv2.cvtColor(img, cv2.COLOR_BGR2GRAY)\n",
    "    img_blocked = img.copy()\n",
    "    \n",
    "    # looking for front faces\n",
    "    faces1 = frontFaceDetect(img) \n",
    "    img_blocked = drawBlock(faces1,img_blocked)\n",
    "    \n",
    "    # looking for right side faces (flip image in order to detect the faces)\n",
    "    faces2 = sideFaceDetect(img_blocked, 1)\n",
    "    img_blocked = drawBlock(faces2,img_blocked,1)\n",
    "\n",
    "    # looking for left side faces\n",
    "    faces3 = sideFaceDetect(img_blocked)\n",
    "    img_blocked = drawBlock(faces3,img_blocked)\n",
    "    \n",
    "    # crop faces\n",
    "    number = filter(str.isdigit, fileName)\n",
    "    facePath = 'C:/Users/VE-ENG/Desktop/test/faces/image'+number+'/'\n",
    "    cropFace(faces1,img,facePath)\n",
    "    cropFace(faces2,img,facePath, 1)\n",
    "    cropFace(faces3,img,facePath)\n",
    "    \n",
    "    # draw rectangles around faces\n",
    "    img = drawRectangle(faces1, img)\n",
    "    img = drawRectangle(faces2, img, 1)\n",
    "    img = drawRectangle(faces3, img)\n",
    "    \n",
    "    # display found faces    \n",
    "#     cv2.imshow(\"Faces found\" ,img)\n",
    "#     cv2.waitKey(0)\n",
    "    \n",
    "# When everything is done, release the window\n",
    "cv2.destroyAllWindows()\n",
    "toc = time.time()\n",
    "\n",
    "print toc - tic"
   ]
  },
  {
   "cell_type": "code",
   "execution_count": 183,
   "metadata": {
    "collapsed": false
   },
   "outputs": [
    {
     "name": "stdout",
     "output_type": "stream",
     "text": [
      "Found 8 faces with model 1!\n",
      "Found 19 faces with model 2!\n",
      "Found 7 fliped faces with model 1!\n"
     ]
    }
   ],
   "source": [
    "# 侧脸\n",
    "cascPath1 = 'C:/Users/VE-ENG/Desktop/data/haarcascades/haarcascade_profileface.xml'\n",
    "# 正脸\n",
    "cascPath2 = 'C:/Users/VE-ENG/Desktop/data/haarcascades/haarcascade_frontalface_alt2.xml'\n",
    "faceCascade1 = cv2.CascadeClassifier(cascPath1)\n",
    "faceCascade2 = cv2.CascadeClassifier(cascPath2)\n",
    "\n",
    "path = 'C:/Users/VE-ENG/Desktop/test/video_11.jpg'\n",
    "img = cv2.imread(path)\n",
    "\n",
    "gray = cv2.cvtColor(img, cv2.COLOR_BGR2GRAY)\n",
    "\n",
    "\n",
    "faces1 = faceCascade1.detectMultiScale(\n",
    "        gray,\n",
    "        scaleFactor=1.1,\n",
    "        minNeighbors=5,\n",
    "        minSize=(30, 30),\n",
    "        flags=cv2.cv.CV_HAAR_SCALE_IMAGE)\n",
    "\n",
    "# if cannot find side face, flip the image\n",
    "\n",
    "faces_fliped = faceCascade1.detectMultiScale(\n",
    "        cv2.flip(gray,1),\n",
    "        scaleFactor=1.1,\n",
    "        minNeighbors=5,\n",
    "        minSize=(30, 30),\n",
    "        flags=cv2.cv.CV_HAAR_SCALE_IMAGE)\n",
    "\n",
    "\n",
    "faces2 = faceCascade2.detectMultiScale(\n",
    "        gray,\n",
    "        scaleFactor=1.1,\n",
    "        minNeighbors=5,\n",
    "        minSize=(30, 30),\n",
    "        flags=cv2.cv.CV_HAAR_SCALE_IMAGE)\n",
    "\n",
    "if len(faces1) != 0:\n",
    "    print \"Found {0} faces with model 1!\".format(len(faces1))\n",
    "    # Draw a rectangle around the faces\n",
    "    for (x, y, w, h) in faces1:\n",
    "        cv2.rectangle(img, (x, y), (x+w, y+h), (255, 0, 0), 2)\n",
    "if len(faces2) !=0:\n",
    "    print \"Found {0} faces with model 2!\".format(len(faces2))\n",
    "    # Draw a rectangle around the faces\n",
    "    for (x, y, w, h) in faces2:\n",
    "        cv2.rectangle(img, (x, y), (x+w, y+h), (0, 255, 0), 2)\n",
    "if len(faces_fliped) != 0:\n",
    "    print \"Found {0} fliped faces with model 1!\".format(len(faces_fliped))\n",
    "    # Draw a rectangle around the faces\n",
    "    img = cv2.flip(img,1)\n",
    "    for (x, y, w, h) in faces_fliped:\n",
    "        rec = cv2.rectangle(img, (x, y), (x+w, y+h), (0, 0, 255), 2)\n",
    "    img = cv2.flip(img,1)\n",
    "else:\n",
    "    print \"No face found!\"\n",
    "     \n",
    "cv2.imshow(\"Faces found\" ,img)\n",
    "cv2.waitKey(0)\n",
    "\n",
    "\n",
    "# When everything is done, release the capture\n",
    "cv2.destroyAllWindows()\n"
   ]
  },
  {
   "cell_type": "code",
   "execution_count": 188,
   "metadata": {
    "collapsed": false
   },
   "outputs": [
    {
     "name": "stdout",
     "output_type": "stream",
     "text": [
      "2.53500008583\n"
     ]
    }
   ],
   "source": [
    "tic = time.time()\n",
    "#缩放图片到 100*100\n",
    "width, height = 100, 100\n",
    "path = 'C:/Users/VE-ENG/Desktop/test/video_9.jpg'\n",
    "img = cv2.imread(path)\n",
    "imgNew = cv2.resize(img, (width,height), interpolation=cv2.INTER_CUBIC)\n",
    "cv2.imshow(\"New Image\" ,imgNew)\n",
    "cv2.waitKey(0)\n",
    "cv2.destroyAllWindows()\n",
    "toc = time.time()\n",
    "\n",
    "print toc - tic"
   ]
  }
 ],
 "metadata": {
  "kernelspec": {
   "display_name": "Python 2",
   "language": "python",
   "name": "python2"
  },
  "language_info": {
   "codemirror_mode": {
    "name": "ipython",
    "version": 2
   },
   "file_extension": ".py",
   "mimetype": "text/x-python",
   "name": "python",
   "nbconvert_exporter": "python",
   "pygments_lexer": "ipython2",
   "version": "2.7.13"
  }
 },
 "nbformat": 4,
 "nbformat_minor": 2
}
