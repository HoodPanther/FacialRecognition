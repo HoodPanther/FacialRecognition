{
 "cells": [
  {
   "cell_type": "code",
   "execution_count": 1,
   "metadata": {
    "collapsed": true
   },
   "outputs": [],
   "source": [
    "import cv2\n",
    "import os\n",
    "import numpy as np\n",
    "import time"
   ]
  },
  {
   "cell_type": "code",
   "execution_count": 2,
   "metadata": {
    "collapsed": false
   },
   "outputs": [
    {
     "name": "stdout",
     "output_type": "stream",
     "text": [
      "training:testing = 90:10\n"
     ]
    }
   ],
   "source": [
    "path = 'C:/Users/VE-ENG/Desktop/CMU_PIE_Face/Pose05_64x64_files/'\n",
    "picPerPerson = 49\n",
    "trainingRatio = 0.9\n",
    "\n",
    "numPerson = len(os.listdir(path) )/picPerPerson\n",
    "print 'training:testing = %s:%s' % (int(100*trainingRatio), int(100 - 100*trainingRatio))\n",
    "numPerson = len(os.listdir(path) )/picPerPerson"
   ]
  },
  {
   "cell_type": "code",
   "execution_count": 3,
   "metadata": {
    "collapsed": false
   },
   "outputs": [],
   "source": [
    "trainingImages = []\n",
    "trainingIndices = []\n",
    "traniningPicPerPerson = int(picPerPerson* trainingRatio)\n",
    "for personID in range(numPerson):\n",
    "    for picID in range(traniningPicPerPerson):\n",
    "        fileName = path + str(personID) + '_' + str(picID) + '.jpg'\n",
    "        img = cv2.imread(fileName,cv2.IMREAD_GRAYSCALE)\n",
    "        trainingImages.append(np.asarray(img))\n",
    "        trainingIndices.append(personID)\n",
    "#         print 'File %s added into training set.' % (str(personID) + '_' + str(picID) + '.jpg')"
   ]
  },
  {
   "cell_type": "code",
   "execution_count": 4,
   "metadata": {
    "collapsed": false
   },
   "outputs": [
    {
     "name": "stdout",
     "output_type": "stream",
     "text": [
      "340\n"
     ]
    }
   ],
   "source": [
    "testingImagesPath = []\n",
    "testingIndices = []\n",
    "\n",
    "for personID in range(numPerson):\n",
    "    for picID in range(traniningPicPerPerson,picPerPerson):\n",
    "        fileName = path + str(personID) + '_' + str(picID) + '.jpg'\n",
    "#         img = cv2.imread(fileName,cv2.IMREAD_GRAYSCALE)\n",
    "        testingImagesPath.append(fileName)\n",
    "        testingIndices.append(personID)"
   ]
  },
  {
   "cell_type": "code",
   "execution_count": 5,
   "metadata": {
    "collapsed": false
   },
   "outputs": [
    {
     "name": "stdout",
     "output_type": "stream",
     "text": [
      "Model training with 2992 images...\n",
      "Model trained within 2.03900003433 sec.\n"
     ]
    }
   ],
   "source": [
    "tic = time.time()\n",
    "print 'Model training with %s images...' % len(trainingImages)\n",
    "recognizer = cv2.createLBPHFaceRecognizer()\n",
    "recognizer.train(np.asarray(trainingImages, dtype=np.uint8), np.asarray(trainingIndices, dtype=np.int))\n",
    "\n",
    "toc = time.time()\n",
    "print 'Model trained within %s sec.' % (toc - tic)"
   ]
  },
  {
   "cell_type": "code",
   "execution_count": 11,
   "metadata": {
    "collapsed": false
   },
   "outputs": [
    {
     "name": "stdout",
     "output_type": "stream",
     "text": [
      "Accuracy: 0.908823529412\n",
      "Average time for one picture: 0.161088235238\n"
     ]
    }
   ],
   "source": [
    "predictionList = []\n",
    "confidenceList = []\n",
    "count = 0\n",
    "print 'Input %s images to predict result...' % len(testingImagesPath)\n",
    "tic = time.time()\n",
    "for index,fileName in enumerate(testingImagesPath):\n",
    "    img = cv2.imread(fileName,cv2.IMREAD_GRAYSCALE)\n",
    "    prediction, confidence = recognizer.predict(img)\n",
    "#     print '%s prediction done.' % fileName\n",
    "    predictionList.append(int(prediction))\n",
    "    confidenceList.append(confidence)  \n",
    "    if prediction == testingIndices[index]:\n",
    "        count +=1\n",
    "print 'Correct prediction count: %s' % count\n",
    "toc = time.time()\n",
    "print 'Prediction done within %s sec.' % (toc - tic)\n",
    "\n",
    "print 'Accuracy: %s' % (float(count)/len(testingIndices))\n",
    "print 'Average time for one picture: %s' % ((toc - tic)/len(testingImagesPath))"
   ]
  }
 ],
 "metadata": {
  "kernelspec": {
   "display_name": "Python 2",
   "language": "python",
   "name": "python2"
  },
  "language_info": {
   "codemirror_mode": {
    "name": "ipython",
    "version": 2
   },
   "file_extension": ".py",
   "mimetype": "text/x-python",
   "name": "python",
   "nbconvert_exporter": "python",
   "pygments_lexer": "ipython2",
   "version": "2.7.13"
  }
 },
 "nbformat": 4,
 "nbformat_minor": 2
}
